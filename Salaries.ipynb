{
 "cells": [
  {
   "cell_type": "code",
   "execution_count": 6,
   "metadata": {},
   "outputs": [],
   "source": [
    "import pandas as pd"
   ]
  },
  {
   "cell_type": "code",
   "execution_count": 10,
   "metadata": {},
   "outputs": [
    {
     "name": "stdout",
     "output_type": "stream",
     "text": [
      "             role country       company  company_rating       job_title  \\\n",
      "0  Data Scientist   Japan           CTW             2.9  Data Scientist   \n",
      "1  Data Scientist   Japan      FUJIFILM             3.7  Data Scientist   \n",
      "2  Data Scientist   Japan  GMO Internet             3.3  Data Scientist   \n",
      "3  Data Scientist   Japan      Data4Cʼs             3.0  Data Scientist   \n",
      "4  Data Scientist   Japan      Deloitte             4.0  Data Scientist   \n",
      "\n",
      "       median    low   high   unit  Unnamed: 9  \n",
      "0  ¥1,500,000    ¥1M   ¥18M   / yr         NaN  \n",
      "1  ¥5,000,000    ¥5M    ¥7M   / yr         NaN  \n",
      "2  ¥6,500,000    ¥7M     -    / yr         NaN  \n",
      "3    ¥350,000  ¥300K  ¥402K   / mo         NaN  \n",
      "4  ¥6,250,000    ¥5M    ¥8M   / yr         NaN  \n",
      "<class 'pandas.core.frame.DataFrame'>\n",
      "RangeIndex: 401190 entries, 0 to 401189\n",
      "Data columns (total 10 columns):\n",
      " #   Column          Non-Null Count   Dtype  \n",
      "---  ------          --------------   -----  \n",
      " 0   role            401190 non-null  object \n",
      " 1   country         401190 non-null  object \n",
      " 2   company         401185 non-null  object \n",
      " 3   company_rating  390055 non-null  float64\n",
      " 4   job_title       401190 non-null  object \n",
      " 5   median          401190 non-null  object \n",
      " 6   low             401190 non-null  object \n",
      " 7   high            401190 non-null  object \n",
      " 8   unit            401190 non-null  object \n",
      " 9   Unnamed: 9      0 non-null       float64\n",
      "dtypes: float64(2), object(8)\n",
      "memory usage: 30.6+ MB\n",
      "None\n"
     ]
    }
   ],
   "source": [
    "path = \"salaries.csv\"\n",
    "data = pd.read_csv(path,delimiter='\\t',on_bad_lines='skip')\n",
    "print(data.head())\n",
    "print(data.info())"
   ]
  },
  {
   "cell_type": "code",
   "execution_count": 12,
   "metadata": {},
   "outputs": [],
   "source": [
    "data = data.drop(columns=['Unnamed: 9'])"
   ]
  },
  {
   "cell_type": "code",
   "execution_count": 13,
   "metadata": {},
   "outputs": [],
   "source": [
    "import csv"
   ]
  },
  {
   "cell_type": "code",
   "execution_count": 14,
   "metadata": {},
   "outputs": [
    {
     "name": "stdout",
     "output_type": "stream",
     "text": [
      "Bad line: 1, Content: ['role', 'country', 'company', 'company_rating', 'job_title', 'median', 'low', 'high', 'unit', '']\n"
     ]
    }
   ],
   "source": [
    "file_path = \"salaries.csv\"\n",
    "with open(file_path,'r',encoding='utf-8') as file:\n",
    "    reader = csv.reader(file,delimiter='\\t')\n",
    "    for i, row in enumerate(reader):\n",
    "        if len(row) != 9:\n",
    "            print(f'Bad line: {i+1}, Content: {row}') "
   ]
  },
  {
   "cell_type": "code",
   "execution_count": 17,
   "metadata": {},
   "outputs": [],
   "source": [
    "data = pd.read_csv(\"salaries.csv\",header=0,delimiter='\\t')\n",
    "pd.set_option('display.max_column', None)\n",
    "pd.set_option('display.max_rows', None)\n",
    "data = data.replace('\\xa0', ' ', regex=True)\n",
    "data = data.drop(columns=['Unnamed: 9'])\n",
    "mean_rating = data['company_rating'].mean()\n",
    "data['company_rating'].fillna(mean_rating, inplace=True)\n",
    "if 'company' in data.columns:\n",
    "    data['company'] = data['company'].fillna(\"No Company\")"
   ]
  },
  {
   "cell_type": "code",
   "execution_count": 19,
   "metadata": {},
   "outputs": [],
   "source": [
    "def Changing_units(unit):\n",
    "    if unit == ' / yr':\n",
    "        return \"Yearly\"\n",
    "    elif unit == ' / mo':\n",
    "        return \"Monthly\"\n",
    "    elif unit == ' / hr':\n",
    "        return \"Hourly\"\n",
    "\n",
    "\n",
    "data['unit'] = data['unit'].apply(Changing_units)\n",
    "    "
   ]
  },
  {
   "cell_type": "code",
   "execution_count": 20,
   "metadata": {},
   "outputs": [],
   "source": [
    "def clmn_currency(val):\n",
    "    units = val.split(' ')\n",
    "    if len(units) == 1:\n",
    "        return val[0]\n",
    "    else:\n",
    "        return units[0]\n",
    "data['currency'] = data['median'].apply(clmn_currency)"
   ]
  },
  {
   "cell_type": "code",
   "execution_count": 21,
   "metadata": {},
   "outputs": [],
   "source": [
    "def format_salary(x):\n",
    "    x = str(x)\n",
    "    unit = clmn_currency(x)\n",
    "    x = x.replace(unit, '')\n",
    "    x = x.replace(',', '')\n",
    "    x = x.replace('M', '000000')\n",
    "    x = x.replace('K', '000')\n",
    "    return x\n",
    "\n",
    "\n",
    "data['median'] = data['median'].apply(format_salary)\n",
    "data['low'] = data['low'].apply(format_salary)\n",
    "data['high'] = data['high'].apply(format_salary)"
   ]
  },
  {
   "cell_type": "code",
   "execution_count": 22,
   "metadata": {},
   "outputs": [],
   "source": [
    "data.to_csv('cleaned_salaries.csv', index=False)"
   ]
  },
  {
   "cell_type": "code",
   "execution_count": 23,
   "metadata": {},
   "outputs": [
    {
     "name": "stdout",
     "output_type": "stream",
     "text": [
      "Collecting pyodbc\n",
      "  Downloading pyodbc-5.1.0-cp311-cp311-win_amd64.whl.metadata (2.8 kB)\n",
      "Downloading pyodbc-5.1.0-cp311-cp311-win_amd64.whl (68 kB)\n",
      "   ---------------------------------------- 0.0/68.7 kB ? eta -:--:--\n",
      "   ---------------------------------------- 0.0/68.7 kB ? eta -:--:--\n",
      "   ---------------------------------------- 0.0/68.7 kB ? eta -:--:--\n",
      "   ---------------------------------------- 0.0/68.7 kB ? eta -:--:--\n",
      "   ---------------------------------------- 0.0/68.7 kB ? eta -:--:--\n",
      "   ---------------------------------------- 0.0/68.7 kB ? eta -:--:--\n",
      "   ---------------------------------------- 0.0/68.7 kB ? eta -:--:--\n",
      "   ---------------------------------------- 0.0/68.7 kB ? eta -:--:--\n",
      "   ---------------------------------------- 0.0/68.7 kB ? eta -:--:--\n",
      "   ---------------------------------------- 0.0/68.7 kB ? eta -:--:--\n",
      "   ---------------------------------------- 0.0/68.7 kB ? eta -:--:--\n",
      "   ---------------------------------------- 0.0/68.7 kB ? eta -:--:--\n",
      "   ---------------------------------------- 0.0/68.7 kB ? eta -:--:--\n",
      "   ----------------------------------- ---- 61.4/68.7 kB 3.2 MB/s eta 0:00:01\n",
      "   ---------------------------------------- 68.7/68.7 kB 928.6 kB/s eta 0:00:00\n",
      "Installing collected packages: pyodbc\n",
      "Successfully installed pyodbc-5.1.0\n",
      "Note: you may need to restart the kernel to use updated packages.\n"
     ]
    },
    {
     "name": "stderr",
     "output_type": "stream",
     "text": [
      "\n",
      "[notice] A new release of pip is available: 24.1.2 -> 24.2\n",
      "[notice] To update, run: python.exe -m pip install --upgrade pip\n"
     ]
    }
   ],
   "source": [
    "pip install pyodbc"
   ]
  },
  {
   "cell_type": "code",
   "execution_count": 44,
   "metadata": {},
   "outputs": [
    {
     "name": "stdout",
     "output_type": "stream",
     "text": [
      "Data loaded successfully!\n"
     ]
    }
   ],
   "source": [
    "import pandas as pd\n",
    "import pyodbc\n",
    "\n",
    "# Connection string for your SQL Server database\n",
    "connection_string = (\n",
    "    \"DRIVER={ODBC Driver 17 for SQL Server};\"\n",
    "    \"SERVER=AHMAR;\"\n",
    "    \"DATABASE=Salaries;\"  # Assuming the database 'Salaries' already exists\n",
    "    \"Trusted_Connection=yes;\"\n",
    ")\n",
    "\n",
    "# Path to your CSV file\n",
    "csv_file_path = 'D:\\\\Python+SQL+PowerBi\\\\cleaned_salaries.csv'\n",
    "\n",
    "# Read the CSV file into a pandas DataFrame\n",
    "df = pd.read_csv(csv_file_path)\n",
    "\n",
    "# Connect to the SQL Server database\n",
    "conn = pyodbc.connect(connection_string)\n",
    "cursor = conn.cursor()\n",
    "\n",
    "# Is baat ka lazmi dehan rakhna hai k tables database mei exist krna chieyeee\n",
    "create_table_query = '''\n",
    "IF NOT EXISTS (SELECT * FROM INFORMATION_SCHEMA.TABLES WHERE TABLE_NAME = 'SALARIES')\n",
    "BEGIN\n",
    "    CREATE TABLE SALARIES (\n",
    "        role VARCHAR(255),\n",
    "        country VARCHAR(255),\n",
    "        company VARCHAR(255),\n",
    "        company_rating FLOAT,\n",
    "        job_title VARCHAR(255),\n",
    "        median VARCHAR(255),\n",
    "        low VARCHAR(255),\n",
    "        high VARCHAR(255),\n",
    "        unit VARCHAR(255),\n",
    "        currency VARCHAR(255)\n",
    "    );\n",
    "END\n",
    "'''\n",
    "cursor.execute(create_table_query)\n",
    "conn.commit()\n",
    "\n",
    "# Tables mei data insert horaha hai is step mei\n",
    "for index, row in df.iterrows():\n",
    "    insert_query = '''\n",
    "    INSERT INTO SALARIES (role, country, company, company_rating, job_title, median, low, high, unit, currency)\n",
    "    VALUES (?, ?, ?, ?, ?, ?, ?, ?, ?, ?)\n",
    "    '''\n",
    "    cursor.execute(insert_query, row['role'], row['country'], row['company'], row['company_rating'],\n",
    "                   row['job_title'], row['median'], row['low'], row['high'], row['unit'], row['currency'])\n",
    "\n",
    "conn.commit()\n",
    "\n",
    "# Best practice hoti hai cursor or connection dono ko hamesha close karna\n",
    "cursor.close()\n",
    "conn.close()\n",
    "\n",
    "print(\"Data loaded successfully!\")"
   ]
  },
  {
   "cell_type": "code",
   "execution_count": null,
   "metadata": {},
   "outputs": [],
   "source": []
  }
 ],
 "metadata": {
  "kernelspec": {
   "display_name": "Python 3",
   "language": "python",
   "name": "python3"
  },
  "language_info": {
   "codemirror_mode": {
    "name": "ipython",
    "version": 3
   },
   "file_extension": ".py",
   "mimetype": "text/x-python",
   "name": "python",
   "nbconvert_exporter": "python",
   "pygments_lexer": "ipython3",
   "version": "3.11.4"
  }
 },
 "nbformat": 4,
 "nbformat_minor": 2
}
